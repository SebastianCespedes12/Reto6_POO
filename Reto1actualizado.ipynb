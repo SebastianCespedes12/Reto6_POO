{
 "cells": [
  {
   "cell_type": "markdown",
   "metadata": {},
   "source": [
    ">1.Crear una función que realice operaciones básicas (suma, resta, multiplicación, división) entre dos números, según la elección del usuario, la forma de entrada de la función será los dos operandos y el caracter usado para la operación. entrada: (1,2,\"+\"), salida (3)."
   ]
  },
  {
   "cell_type": "code",
   "execution_count": null,
   "metadata": {},
   "outputs": [],
   "source": [
    "def operaciones(x:float, y:float, simb:str) -> float:\n",
    "    try:\n",
    "        # Validar que los operandos sean números\n",
    "        if not isinstance(x, (int, float)) or not isinstance(y, (int, float)):\n",
    "            raise TypeError(\"Los operandos deben ser números\")\n",
    "        \n",
    "        # Validar que el símbolo sea válido\n",
    "        if simb not in [\"+\", \"-\", \"*\", \"/\"]:\n",
    "            raise ValueError(\"Operación no válida. Use: +, -, *, /\")\n",
    "        \n",
    "        if simb == \"+\":\n",
    "            return x + y\n",
    "        elif simb == \"-\":\n",
    "            return x - y\n",
    "        elif simb == \"*\":\n",
    "            return x * y\n",
    "        elif simb == \"/\":\n",
    "            if y == 0:\n",
    "                raise ZeroDivisionError(\"No se puede dividir entre cero\")\n",
    "            return x / y\n",
    "    finally:\n",
    "        print(\"Operación realizada\")"
   ]
  },
  {
   "cell_type": "markdown",
   "metadata": {},
   "source": [
    ">2.Realice una función que permita validar si una palabra es un palíndromo. Condición: No se vale hacer slicing para invertir la palabra y verificar que sea igual a la original."
   ]
  },
  {
   "cell_type": "code",
   "execution_count": null,
   "metadata": {},
   "outputs": [],
   "source": [
    "def palindromo(palabra: str) -> bool:\n",
    "    try:\n",
    "        # Validar que la entrada sea una cadena\n",
    "        if not isinstance(palabra, str):\n",
    "            raise TypeError(\"La entrada debe ser una cadena de texto\")\n",
    "        \n",
    "        # Validar que la cadena no esté vacía\n",
    "        if len(palabra) == 0:\n",
    "            raise ValueError(\"La cadena no puede estar vacía\")\n",
    "        \n",
    "        # Convertir a minúsculas y quitar espacios para mejor comparación\n",
    "        palabra = palabra.lower().replace(\" \", \"\")\n",
    "        \n",
    "        longitud = len(palabra)\n",
    "        for i in range(longitud // 2):\n",
    "            if palabra[i] != palabra[longitud - 1 - i]:\n",
    "                return False\n",
    "        return True\n",
    "    finally:\n",
    "            print(\"Verificación de palíndromo realizada\")"
   ]
  },
  {
   "cell_type": "markdown",
   "metadata": {},
   "source": [
    ">3.Escribir una función que reciba una lista de números y devuelva solo aquellos que son primos. La función debe recibir una lista de enteros y retornar solo aquellos que sean primos."
   ]
  },
  {
   "cell_type": "code",
   "execution_count": null,
   "metadata": {},
   "outputs": [],
   "source": [
    "def reconocer_primo(lista: list):\n",
    "    try:\n",
    "        # Validar que la entrada sea una lista\n",
    "        if not isinstance(lista, list):\n",
    "            raise TypeError(\"La entrada debe ser una lista\")\n",
    "        \n",
    "        # Validar que la lista no esté vacía\n",
    "        if len(lista) == 0:\n",
    "            raise ValueError(\"La lista no puede estar vacía\")\n",
    "        \n",
    "        # Validar que todos los elementos sean enteros\n",
    "        for elemento in lista:\n",
    "            if not isinstance(elemento, int):\n",
    "                raise TypeError(f\"Todos los elementos deben ser enteros. Elemento inválido: {elemento}\")\n",
    "        \n",
    "        lista_primos = []\n",
    "        for i in lista:\n",
    "            if i < 2:\n",
    "                continue\n",
    "            es_primo = True\n",
    "            for j in range(2, int(i ** 0.5) + 1):\n",
    "                if i % j == 0:\n",
    "                    es_primo = False\n",
    "                    break\n",
    "            if es_primo:\n",
    "                lista_primos.append(i)\n",
    "        return lista_primos\n",
    "    finally:\n",
    "        print(\"Verificación de números primos realizada\")"
   ]
  },
  {
   "cell_type": "markdown",
   "metadata": {},
   "source": [
    ">4.Escribir una función que reciba una lista de números enteros y retorne la mayor suma entre dos elementos consecutivos."
   ]
  },
  {
   "cell_type": "code",
   "execution_count": null,
   "metadata": {},
   "outputs": [],
   "source": [
    "def suma_consecutiva(lista):\n",
    "    try:\n",
    "        # Validar que la entrada sea una lista\n",
    "        if not isinstance(lista, list):\n",
    "            raise TypeError(\"La entrada debe ser una lista\")\n",
    "        \n",
    "        # Validar que la lista tenga al menos 2 elementos\n",
    "        if len(lista) < 2:\n",
    "            raise ValueError(\"La lista debe tener al menos 2 elementos para calcular sumas consecutivas\")\n",
    "        \n",
    "        # Validar que todos los elementos sean números\n",
    "        for elemento in lista:\n",
    "            if not isinstance(elemento, (int, float)):\n",
    "                raise TypeError(f\"Todos los elementos deben ser números. Elemento inválido: {elemento}\")\n",
    "        \n",
    "        sumas = []\n",
    "        suma_alta = float('-inf')  # Inicializar con el menor valor posible\n",
    "        \n",
    "        for i in range(len(lista) - 1):\n",
    "            suma = lista[i] + lista[i + 1]\n",
    "            sumas.append(suma)\n",
    "            if suma > suma_alta:\n",
    "                suma_alta = suma\n",
    "        \n",
    "        return suma_alta\n",
    "    finally:\n",
    "        print(\"Cálculo de suma consecutiva realizado\")"
   ]
  },
  {
   "cell_type": "markdown",
   "metadata": {},
   "source": [
    ">5.Escribir una función que reciba una lista de string y retorne unicamente aquellos elementos que tengan los mismos caracteres. e.g. entrada: [\"amor\", \"roma\", \"perro\"], salida [\"amor\", \"roma\"]"
   ]
  },
  {
   "cell_type": "code",
   "execution_count": null,
   "metadata": {},
   "outputs": [],
   "source": [
    "def mismos_caracteres(lista: list):\n",
    "    try:\n",
    "        # Validar que la entrada sea una lista\n",
    "        if not isinstance(lista, list):\n",
    "            raise TypeError(\"La entrada debe ser una lista\")\n",
    "        \n",
    "        # Validar que la lista no esté vacía\n",
    "        if len(lista) == 0:\n",
    "            raise ValueError(\"La lista no puede estar vacía\")\n",
    "        \n",
    "        # Validar que todos los elementos sean cadenas\n",
    "        for elemento in lista:\n",
    "            if not isinstance(elemento, str):\n",
    "                raise TypeError(f\"Todos los elementos deben ser cadenas de texto. Elemento inválido: {elemento}\")\n",
    "            if len(elemento) == 0:\n",
    "                raise ValueError(\"Las cadenas no pueden estar vacías\")\n",
    "        \n",
    "        todas_palabras = {}\n",
    "        lista_final = []\n",
    "        for i in lista:\n",
    "            todas_palabras[f\"{i}\"] = []\n",
    "            for j in range(97,123):\n",
    "                if i.count(chr(j)) > 0:                                \n",
    "                    todas_palabras[f\"{i}\"].append(f\"{i.count(chr(j))} , {chr(j)}\")\n",
    "        for i in  todas_palabras.items():\n",
    "            for j in todas_palabras.items():\n",
    "                if i[0] != j[0] and i[1] == j[1] and i[0] not in lista_final:\n",
    "                    lista_final.extend([i[0]])\n",
    "        return lista_final\n",
    "    finally:\n",
    "        print(\"Verificación de palabras con mismos caracteres realizada\")\n",
    "mismos_caracteres([1, \"aloh\", \"adios\", \"soda\", \"diosa\", \"sodai\"])"
   ]
  }
 ],
 "metadata": {
  "kernelspec": {
   "display_name": "Python 3",
   "language": "python",
   "name": "python3"
  },
  "language_info": {
   "codemirror_mode": {
    "name": "ipython",
    "version": 3
   },
   "file_extension": ".py",
   "mimetype": "text/x-python",
   "name": "python",
   "nbconvert_exporter": "python",
   "pygments_lexer": "ipython3",
   "version": "3.11.9"
  }
 },
 "nbformat": 4,
 "nbformat_minor": 2
}
